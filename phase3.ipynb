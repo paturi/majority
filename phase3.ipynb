{
 "cells": [
  {
   "cell_type": "code",
   "execution_count": 669,
   "metadata": {
    "scrolled": false
   },
   "outputs": [],
   "source": [
    "import math, scipy.special\n",
    "x = math.sqrt(13)\n",
    "phi = (2+x)/3\n",
    "cphi = (2-x)/3\n",
    "phi = (2+x)/3\n",
    "cphi = (2-x)/3\n",
    "c0 = (7+2*x)/(4*x)\n",
    "c1 = (-7+2*x)/(4*x)\n",
    "psi = (1-3*phi)\n",
    "cpsi = (1-3*cphi)\n",
    "gamma = 31/9"
   ]
  },
  {
   "cell_type": "code",
   "execution_count": 670,
   "metadata": {},
   "outputs": [],
   "source": [
    "def divrem(b,d):\n",
    "    if d != 0:\n",
    "        e = b//d\n",
    "        f = b % d\n",
    "    else:\n",
    "        e = 0\n",
    "        f = 0\n",
    "    if e >= 3:\n",
    "        e1 = 3\n",
    "        f1 = 0\n",
    "    else:\n",
    "        e1 = e\n",
    "        f1 = f\n",
    "    return e, f, e1, f1\n",
    "def depthadjust(d, e, f):\n",
    "    b = d*e+f\n",
    "    e0,f0,e1,f1 = divrem(b, d)\n",
    "    return e1,f1\n",
    "def addone(d, e, f):\n",
    "    b = e*d+f+1\n",
    "    e0,f0,e1,f1 = divrem(b, d)\n",
    "    return e1, f1"
   ]
  },
  {
   "cell_type": "code",
   "execution_count": 671,
   "metadata": {},
   "outputs": [],
   "source": [
    "def alpha(e):\n",
    "    return (3-e)/2+2*e/3\n",
    "def computep3e3(d, a, e, f):\n",
    "    return 2**d\n",
    "def computep3a0(d, a, e, f):\n",
    "    return ((3/2)**d)*(((9+e)/9)**d)*(((10+e)/(9+e))**f)\n",
    "def computep3d0(d, a, e, f):\n",
    "    return 1\n",
    "def computep3d1(d, a, e, f):\n",
    "    return alpha(e)\n",
    "def computep3d2(d, a, e, f):\n",
    "    s = 0\n",
    "    if a == 0:\n",
    "        s =  computep3a0(d, a, e, f)\n",
    "    elif e == 3:\n",
    "        s =  computep3e3(d, a, e, f)\n",
    "    elif e == 2:\n",
    "        if f == 1:\n",
    "            s =  2*alpha(e)\n",
    "        elif f == 0:\n",
    "            s =  2*1/2 + 4*alpha(e)/3\n",
    "    elif e == 1:\n",
    "        a1 = min(a, 2)\n",
    "        s = 2*alpha(e+f)/3 + a1*alpha(e+f+1)/2 + (3-e-a1)*alpha(e+f)/2\n",
    "    elif e == 0:\n",
    "        a1 = min(3, a)\n",
    "        s = (3-a1)*alpha(e+f)/2 + a1*alpha(e+f+1)/2\n",
    "    else:\n",
    "        print(e, \"bad value of e\")\n",
    "    return s"
   ]
  },
  {
   "cell_type": "code",
   "execution_count": 672,
   "metadata": {},
   "outputs": [],
   "source": [
    "def adjust(d, e, f, delta):\n",
    "    b = d*e + f + delta\n",
    "    e1, f1, e2, f2 = divrem(b, d)\n",
    "    return e2, f2"
   ]
  },
  {
   "cell_type": "code",
   "execution_count": 673,
   "metadata": {},
   "outputs": [],
   "source": [
    "def computep3d3(d, a, e, f):\n",
    "    s = 0\n",
    "    e1, f1 = depthadjust(d-1, e, f)\n",
    "    e2, f2 = addone(d-1, e, f)\n",
    "    #print(e1, f1, e2, f2)\n",
    "    if a == 0:\n",
    "        s =  computep3a0(d, a, e, f)\n",
    "    elif e == 3:\n",
    "        s =  computep3e3(d, a, e, f)\n",
    "    elif e == 2:\n",
    "        if  f == 0:\n",
    "            s = 58.0/9\n",
    "        else:\n",
    "            s = s + 4*computep3d2(d-1, a-1, e1, f1)/3\n",
    "            s = s + computep3d2(d-1, a-1, e2, f2)/2\n",
    "    elif e == 1:\n",
    "        a1 = min(a, 2)\n",
    "        safe = max(0, 3-a1-e)\n",
    "        s = s + a1*computep3d2(d-1, a-a1, e2, f2)/2\n",
    "        s = s + (safe/2+2*e/3)*computep3d2(d-1, a-a1, e1, f1)\n",
    "    elif e == 0:\n",
    "        a1 = min(a, 3)\n",
    "        safe = max(0, 3-a1-e)\n",
    "        s = s + a1*computep3d2(d-1, a-a1, e2, f2)/2\n",
    "        s = s + (safe/2+2*e/3)*computep3d2(d-1, a-a1, e1, f1)\n",
    "    else:\n",
    "        print(e, \"bad value of e in computep3d3\")\n",
    "    return s"
   ]
  },
  {
   "cell_type": "code",
   "execution_count": 674,
   "metadata": {},
   "outputs": [],
   "source": [
    "def ssum(factor, lower, upper):\n",
    "    sum = 0\n",
    "    i = 1\n",
    "    t = 1\n",
    "    while (i <= upper):\n",
    "        t = t*factor\n",
    "        sum = sum + t*scipy.special.binom(lower+upper-i, lower)\n",
    "        i += 1\n",
    "    return sum\n",
    "def middlep3(l,r):\n",
    "    r43 = (4/3)**r\n",
    "    blr = scipy.special.binom(l+r,l)\n",
    "    s0 = r43*blr\n",
    "    s1 = c0*(1-4/(3*phi))*ssum(3*phi/4, l, r)\n",
    "    s2 = c1*(1-4/(3*cphi))*ssum(3*cphi/4, l, r)\n",
    "    s3 = (1-1/(gamma))*ssum(gamma, r, l)\n",
    "    s = s0 + s1 + s2 + s3\n",
    "    return s"
   ]
  },
  {
   "cell_type": "code",
   "execution_count": 675,
   "metadata": {},
   "outputs": [],
   "source": [
    "def computep3(d, a, e, f):\n",
    "    if d == 0:\n",
    "        s = computep3d0(d, a, e, f)\n",
    "    elif d == 1:\n",
    "        s = computep3d1(d, a, e, f)\n",
    "    elif d == 2:\n",
    "        s = computep3d2(d, a, e, f)\n",
    "    elif d == 3:\n",
    "        s = computep3d3(d, a, e, f)\n",
    "    elif a == 0:\n",
    "        s = computep3a0(d, a, e, f)\n",
    "    elif a == 1:\n",
    "        corr = e\n",
    "        unsafe = min(3-e, 1)\n",
    "        safe = 3- unsafe - corr\n",
    "        e1, f1 = depthadjust(d-1, e, f)\n",
    "        e2, f2 = addone(d-1, e1, f1)\n",
    "        s = (unsafe/2)*computep3(d-1, a-1, e2, f2)\n",
    "        s = s + (safe/2+ 2*corr/3)*computep3(d-1, a-1, e1, f1)\n",
    "    elif e == 3:\n",
    "        s = computep3e3(d, a, e, f)\n",
    "    elif e == 2:\n",
    "        if f >= 1:\n",
    "            s = (2**f)*computep3(d-f, a, e, 0)           \n",
    "        elif d <= a-1:\n",
    "            s = (c0*(phi**d) + c1*(cphi**d))\n",
    "        elif d>= (4-e)*a:\n",
    "            two = ((3-e)*alpha(e+1)/2 + 2*e*alpha(e)/3)\n",
    "            s = (two**a)*alpha(e)**(d-2*a)\n",
    "        else:\n",
    "            l = d-a\n",
    "            r = 2*a-d\n",
    "            s = middlep3(l,r)\n",
    "    return s"
   ]
  },
  {
   "cell_type": "code",
   "execution_count": 676,
   "metadata": {},
   "outputs": [],
   "source": [
    "def test(d,a,b):\n",
    "    i = 0\n",
    "    while (i<=d):\n",
    "        j = 0\n",
    "        while (j<=b):\n",
    "            k = 0\n",
    "            e0, f0, e, f = divrem(j, i)\n",
    "            while (k <= a):\n",
    "                s = computep3(i,k,e,f)\n",
    "                print(i,k,j,e,f,s)\n",
    "                k += 1  \n",
    "            j += 1\n",
    "        i += 1     "
   ]
  },
  {
   "cell_type": "code",
   "execution_count": 677,
   "metadata": {},
   "outputs": [],
   "source": [
    "def gen(d, a, e, f):\n",
    "    options = list()\n",
    "    b = d*e + f\n",
    "    for us in range(4):\n",
    "        unsafe = min(a, us)\n",
    "        for cr in range(3-unsafe+1):\n",
    "            corr = min(cr, b)\n",
    "            safe = max(0, 3-unsafe-corr)\n",
    "            delta = e - corr\n",
    "            e1, f1 = adjust(d-1, e, f, delta)\n",
    "            e2, f2 = addone(d-1, e1, f1)\n",
    "            item = (unsafe, safe, corr, e1, f1, e2, f2)\n",
    "            if item not in options:\n",
    "                options.append(item)\n",
    "    return options"
   ]
  },
  {
   "cell_type": "code",
   "execution_count": 678,
   "metadata": {},
   "outputs": [
    {
     "name": "stdout",
     "output_type": "stream",
     "text": [
      "d= 4 a= 1 e= 2 f= 0 u= 0 s= 1 c= 2 a'= 1 e1= 2 f1= 0 e2= 2 f2= 1 s= 11.577160493827162 t= 11.814814814814817 3.2222222222222223 8.592592592592593 0.0\n",
      "d= 4 a= 2 e= 2 f= 0 u= 1 s= 0 c= 2 a'= 1 e1= 2 f1= 0 e2= 2 f2= 1 s= 11.864197530864196 t= 12.037037037037038 0.0 8.592592592592593 3.4444444444444446\n",
      "d= 4 a= 3 e= 2 f= 0 u= 0 s= 3 c= 0 a'= 3 e1= 2 f1= 2 e2= 3 f2= 0 s= 9.090277777777779 t= 11.0 11.0 0.0 0.0\n",
      "d= 4 a= 3 e= 2 f= 0 u= 0 s= 2 c= 1 a'= 3 e1= 2 f1= 1 e2= 2 f2= 2 s= 9.090277777777779 t= 11.481481481481481 6.888888888888888 4.592592592592593 0.0\n",
      "d= 4 a= 3 e= 2 f= 0 u= 0 s= 1 c= 2 a'= 3 e1= 2 f1= 0 e2= 2 f2= 1 s= 9.090277777777779 t= 11.814814814814817 3.2222222222222223 8.592592592592593 0.0\n",
      "d= 4 a= 3 e= 2 f= 0 u= 0 s= 0 c= 3 a'= 3 e1= 1 f1= 2 e2= 2 f2= 0 s= 9.090277777777779 t= 11.925925925925924 0.0 11.925925925925924 0.0\n",
      "d= 4 a= 3 e= 2 f= 0 u= 1 s= 2 c= 0 a'= 2 e1= 2 f1= 2 e2= 3 f2= 0 s= 9.090277777777779 t= 11.333333333333332 7.333333333333333 0.0 4.0\n",
      "d= 4 a= 3 e= 2 f= 0 u= 1 s= 1 c= 1 a'= 2 e1= 2 f1= 1 e2= 2 f2= 2 s= 9.090277777777779 t= 11.703703703703702 3.444444444444444 4.592592592592593 3.6666666666666665\n",
      "d= 4 a= 3 e= 2 f= 0 u= 1 s= 0 c= 2 a'= 2 e1= 2 f1= 0 e2= 2 f2= 1 s= 9.090277777777779 t= 12.037037037037038 0.0 8.592592592592593 3.444444444444444\n",
      "d= 4 a= 3 e= 2 f= 0 u= 2 s= 1 c= 0 a'= 1 e1= 2 f1= 2 e2= 3 f2= 0 s= 9.090277777777779 t= 11.666666666666666 3.6666666666666665 0.0 8.0\n",
      "d= 4 a= 3 e= 2 f= 0 u= 2 s= 0 c= 1 a'= 1 e1= 2 f1= 1 e2= 2 f2= 2 s= 9.090277777777779 t= 11.925925925925926 0.0 4.592592592592593 7.333333333333333\n",
      "d= 4 a= 3 e= 2 f= 0 u= 3 s= 0 c= 0 a'= 0 e1= 2 f1= 2 e2= 3 f2= 0 s= 9.090277777777779 t= 11.999999999999996 0.0 0.0 11.999999999999996\n",
      "d= 4 a= 4 e= 2 f= 0 u= 0 s= 3 c= 0 a'= 4 e1= 2 f1= 2 e2= 3 f2= 0 s= 5.9612750771604945 t= 11.0 11.0 0.0 0.0\n",
      "d= 4 a= 4 e= 2 f= 0 u= 0 s= 2 c= 1 a'= 4 e1= 2 f1= 1 e2= 2 f2= 2 s= 5.9612750771604945 t= 11.481481481481481 6.888888888888888 4.592592592592593 0.0\n",
      "d= 4 a= 4 e= 2 f= 0 u= 0 s= 1 c= 2 a'= 4 e1= 2 f1= 0 e2= 2 f2= 1 s= 5.9612750771604945 t= 11.814814814814817 3.2222222222222223 8.592592592592593 0.0\n",
      "d= 4 a= 4 e= 2 f= 0 u= 0 s= 0 c= 3 a'= 4 e1= 1 f1= 2 e2= 2 f2= 0 s= 5.9612750771604945 t= 11.925925925925924 0.0 11.925925925925924 0.0\n",
      "d= 4 a= 4 e= 2 f= 0 u= 1 s= 2 c= 0 a'= 3 e1= 2 f1= 2 e2= 3 f2= 0 s= 5.9612750771604945 t= 11.333333333333332 7.333333333333333 0.0 4.0\n",
      "d= 4 a= 4 e= 2 f= 0 u= 1 s= 1 c= 1 a'= 3 e1= 2 f1= 1 e2= 2 f2= 2 s= 5.9612750771604945 t= 11.703703703703702 3.444444444444444 4.592592592592593 3.6666666666666665\n",
      "d= 4 a= 4 e= 2 f= 0 u= 1 s= 0 c= 2 a'= 3 e1= 2 f1= 0 e2= 2 f2= 1 s= 5.9612750771604945 t= 12.037037037037038 0.0 8.592592592592593 3.444444444444444\n",
      "d= 4 a= 4 e= 2 f= 0 u= 2 s= 1 c= 0 a'= 2 e1= 2 f1= 2 e2= 3 f2= 0 s= 5.9612750771604945 t= 11.666666666666666 3.6666666666666665 0.0 8.0\n",
      "d= 4 a= 4 e= 2 f= 0 u= 2 s= 0 c= 1 a'= 2 e1= 2 f1= 1 e2= 2 f2= 2 s= 5.9612750771604945 t= 11.925925925925926 0.0 4.592592592592593 7.333333333333333\n",
      "d= 4 a= 4 e= 2 f= 0 u= 3 s= 0 c= 0 a'= 1 e1= 2 f1= 2 e2= 3 f2= 0 s= 5.9612750771604945 t= 12.0 0.0 0.0 12.0\n",
      "d= 4 a= 1 e= 2 f= 1 u= 0 s= 0 c= 3 a'= 1 e1= 2 f1= 0 e2= 2 f2= 1 s= 12.62962962962963 t= 12.888888888888891 0.0 12.888888888888891 0.0\n"
     ]
    }
   ],
   "source": [
    "a0 = 5\n",
    "d = 4\n",
    "b = 6\n",
    "#test(d,a,b)\n",
    "for e in range(4):\n",
    "    for f in range(d-1):\n",
    "        b = d*e + f\n",
    "        if e >= 2:\n",
    "            for a in range(a0):\n",
    "                s = computep3(d, a, e, f)\n",
    "                options  = gen(d, a, e, f)\n",
    "                for item in options:\n",
    "                    (unsafe, safe, corr, e1, f1, e2, f2) = item\n",
    "                    t = 0\n",
    "                    t1 = safe*computep3(d-1, a-unsafe, e1, f1)/2\n",
    "                    t2 = corr*2*computep3(d-1, a-unsafe, e1, f1)/3\n",
    "                    t3 = unsafe*computep3(d-1, a-unsafe, e2, f2)/2\n",
    "                    t = t1  + t2 + t3\n",
    "                    if s - t < -10**(-13):\n",
    "                        print(\"d=\",d, \"a=\",a, \"e=\",e, \"f=\",f, \"u=\",unsafe, \"s=\",safe, \"c=\",corr, \"a'=\",a-unsafe, \"e1=\",e1, \"f1=\",f1, \"e2=\",e2, \"f2=\",f2, \"s=\",s, \"t=\",t, t1, t2, t3)"
   ]
  },
  {
   "cell_type": "markdown",
   "metadata": {},
   "source": [
    "(248/54)*(4/3)"
   ]
  },
  {
   "cell_type": "code",
   "execution_count": 680,
   "metadata": {},
   "outputs": [
    {
     "data": {
      "text/plain": [
       "10.296296296296296"
      ]
     },
     "execution_count": 680,
     "metadata": {},
     "output_type": "execute_result"
    }
   ],
   "source": [
    "556/54"
   ]
  },
  {
   "cell_type": "code",
   "execution_count": null,
   "metadata": {},
   "outputs": [],
   "source": []
  }
 ],
 "metadata": {
  "kernelspec": {
   "display_name": "Python 3",
   "language": "python",
   "name": "python3"
  },
  "language_info": {
   "codemirror_mode": {
    "name": "ipython",
    "version": 3
   },
   "file_extension": ".py",
   "mimetype": "text/x-python",
   "name": "python",
   "nbconvert_exporter": "python",
   "pygments_lexer": "ipython3",
   "version": "3.7.1"
  }
 },
 "nbformat": 4,
 "nbformat_minor": 2
}
