{
 "cells": [
  {
   "cell_type": "code",
   "execution_count": 44,
   "id": "2ee61322",
   "metadata": {},
   "outputs": [
    {
     "name": "stdout",
     "output_type": "stream",
     "text": [
      "1.5704178024750197 0.16666666666666666 0.16666666666666669 0.16666666666666666 0.0\n",
      "1.5430818442170522 0.3333333333333333 0.0 0.0 0.16666666666666666\n"
     ]
    }
   ],
   "source": [
    "import math\n",
    "# l0 is the number of levels with disjoint clauses\n",
    "# l1 is the number of levels with 1 marked edge\n",
    "# l2 is the number of levels with 2 marked edges\n",
    "# l3 is the number of levels with 3 marked edges\n",
    "# l0+l1+l2+l3 =1/2; l1+2*l2+3*l3 = 1/2; l0 >= 1/6\n",
    "s = 216\n",
    "#attn = math.sqrt(3)\n",
    "#attn = 2.0597\n",
    "attn = 2\n",
    "b = [3, 2+1/attn, 1+2/attn, 3/attn]\n",
    "l = [1, 1, 1, 1]\n",
    "maxm = 0\n",
    "maxl = [0, 0, 0, 0]\n",
    "minm = 2\n",
    "minl = [0, 0, 0, 0]\n",
    "a = [1, 1, 1, 1]\n",
    "for i in range(s+1):\n",
    "    l[2] = i/steps\n",
    "    for j in range(s+1):\n",
    "        l[0] = 1/6 + (j/s)/6\n",
    "        l[3] = (l[0]-l[2])/2\n",
    "        l[1] = 1/2 - 2*l[2] - 3*l[3]\n",
    "        if l[0] >= 0 and l[1] >= 0 and l[2] >= 0 and l[3] >= 0:\n",
    "            f = 1\n",
    "            for k in range(4):\n",
    "                a[k] = b[k]**l[k]\n",
    "                f = f*a[k]\n",
    "            if f > maxm:\n",
    "                maxm = f\n",
    "                for k in range(4):\n",
    "                    maxl[k] = l[k]\n",
    "            if f < minm:\n",
    "                minm = f\n",
    "                for k in range(4):\n",
    "                    minl[k] = l[k]\n",
    "print(maxm, maxl[0], maxl[1], maxl[2], maxl[3])\n",
    "print(minm, minl[0], minl[1], minl[2], minl[3])\n"
   ]
  },
  {
   "cell_type": "code",
   "execution_count": 13,
   "id": "e7c97634",
   "metadata": {},
   "outputs": [
    {
     "data": {
      "text/plain": [
       "1.5650845800732873"
      ]
     },
     "execution_count": 13,
     "metadata": {},
     "output_type": "execute_result"
    }
   ],
   "source": [
    "6**(1/4)\n"
   ]
  },
  {
   "cell_type": "code",
   "execution_count": null,
   "id": "f0c4666d",
   "metadata": {},
   "outputs": [],
   "source": []
  }
 ],
 "metadata": {
  "kernelspec": {
   "display_name": "Python 3 (ipykernel)",
   "language": "python",
   "name": "python3"
  },
  "language_info": {
   "codemirror_mode": {
    "name": "ipython",
    "version": 3
   },
   "file_extension": ".py",
   "mimetype": "text/x-python",
   "name": "python",
   "nbconvert_exporter": "python",
   "pygments_lexer": "ipython3",
   "version": "3.8.10"
  }
 },
 "nbformat": 4,
 "nbformat_minor": 5
}
